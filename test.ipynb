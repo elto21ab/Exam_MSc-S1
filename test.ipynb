{
 "cells": [
  {
   "cell_type": "code",
   "execution_count": 1,
   "metadata": {},
   "outputs": [],
   "source": [
    "from googlesearch import search\n",
    "import requests\n",
    "from typing import List#, Dict"
   ]
  },
  {
   "cell_type": "code",
   "execution_count": 27,
   "metadata": {},
   "outputs": [],
   "source": [
    "class Target():\n",
    "    # static class variables. If extending program to multiple targets, more appropriate ways exist.\n",
    "    NAME = input(\"Name? \")\n",
    "    USERNAME = input(\"Username? \")\n",
    "    QUERIES = []\n",
    "    URLS = []\n",
    "\n",
    "    def sanity(self):\n",
    "        print(f\"Name: {Target.NAME}\\n\"\n",
    "            f\"Username: {Target.USERNAME}\\n\"\n",
    "            f\"queries: {Target.QUERIES}\\n\"\n",
    "            f\"urls: {Target.URLS}\")\n",
    "\n",
    "    def rm_dublicates(self):\n",
    "        # Remove dublicates from any list\n",
    "        self.QUERIES = list(set(self.QUERIES))\n",
    "        self.URLS = list(set(self.URLS))\n",
    "        print(f\"urls: {self.URLS}\")"
   ]
  },
  {
   "cell_type": "code",
   "execution_count": 28,
   "metadata": {},
   "outputs": [],
   "source": [
    "class Dork(Target):\n",
    "    def __init__(self):\n",
    "        pass\n",
    "        # super.__init__(self)\n",
    "        # pass\n",
    "\n",
    "    def query_generator(self, NAME: str, USERNAME: str) -> str:\n",
    "        \"\"\"Generates a Google dorking queries.\"\"\"\n",
    "        google = f'\"{NAME}\"'\n",
    "        fb = f'site:facebook.com intext:\"{USERNAME}\"'\n",
    "        fb_name = f'site:facebook.com intext:\"{NAME}\"'\n",
    "        ig = f'site:instagram.com intext:\"{USERNAME}\"'\n",
    "        \n",
    "        self.QUERIES.extend([google, fb, fb_name, ig])\n",
    "        self.rm_dublicates(self)\n",
    "        print(f\"Queries: {self.QUERIES}\\n\")\n",
    "        return google, fb, ig, fb_name\n",
    "\n",
    "class GoogleManager(Target):\n",
    "    def __init__(self):\n",
    "        pass\n",
    "\n",
    "    def search(self, QUERIES: List[str], URLS: List[str]) -> List[str]:\n",
    "        for i, query in enumerate(QUERIES):\n",
    "            print(f\"Processing query {i + 1}/{len(QUERIES)}: {query}\")\n",
    "            results = list(search(query))\n",
    "            self.URLS.extend(results)\n",
    "\n",
    "        rm_dublicates(URLS)\n",
    "        return results"
   ]
  },
  {
   "cell_type": "code",
   "execution_count": 29,
   "metadata": {},
   "outputs": [],
   "source": [
    "x = Target()"
   ]
  },
  {
   "cell_type": "code",
   "execution_count": 30,
   "metadata": {},
   "outputs": [
    {
     "ename": "TypeError",
     "evalue": "Target.rm_dublicates() takes 1 positional argument but 2 were given",
     "output_type": "error",
     "traceback": [
      "\u001b[0;31m---------------------------------------------------------------------------\u001b[0m",
      "\u001b[0;31mTypeError\u001b[0m                                 Traceback (most recent call last)",
      "Cell \u001b[0;32mIn[30], line 1\u001b[0m\n\u001b[0;32m----> 1\u001b[0m y \u001b[38;5;241m=\u001b[39m \u001b[43mDork\u001b[49m\u001b[38;5;241;43m.\u001b[39;49m\u001b[43mquery_generator\u001b[49m\u001b[43m(\u001b[49m\u001b[43mx\u001b[49m\u001b[43m,\u001b[49m\u001b[43m \u001b[49m\u001b[43mx\u001b[49m\u001b[38;5;241;43m.\u001b[39;49m\u001b[43mNAME\u001b[49m\u001b[43m,\u001b[49m\u001b[43m \u001b[49m\u001b[43mx\u001b[49m\u001b[38;5;241;43m.\u001b[39;49m\u001b[43mUSERNAME\u001b[49m\u001b[43m)\u001b[49m\n",
      "Cell \u001b[0;32mIn[28], line 15\u001b[0m, in \u001b[0;36mDork.query_generator\u001b[0;34m(self, NAME, USERNAME)\u001b[0m\n\u001b[1;32m     12\u001b[0m ig \u001b[38;5;241m=\u001b[39m \u001b[38;5;124mf\u001b[39m\u001b[38;5;124m'\u001b[39m\u001b[38;5;124msite:instagram.com intext:\u001b[39m\u001b[38;5;124m\"\u001b[39m\u001b[38;5;132;01m{\u001b[39;00mUSERNAME\u001b[38;5;132;01m}\u001b[39;00m\u001b[38;5;124m\"\u001b[39m\u001b[38;5;124m'\u001b[39m\n\u001b[1;32m     14\u001b[0m \u001b[38;5;28mself\u001b[39m\u001b[38;5;241m.\u001b[39mQUERIES\u001b[38;5;241m.\u001b[39mextend([google, fb, fb_name, ig])\n\u001b[0;32m---> 15\u001b[0m \u001b[38;5;28;43mself\u001b[39;49m\u001b[38;5;241;43m.\u001b[39;49m\u001b[43mrm_dublicates\u001b[49m\u001b[43m(\u001b[49m\u001b[38;5;28;43mself\u001b[39;49m\u001b[43m)\u001b[49m\n\u001b[1;32m     16\u001b[0m \u001b[38;5;28mprint\u001b[39m(\u001b[38;5;124mf\u001b[39m\u001b[38;5;124m\"\u001b[39m\u001b[38;5;124mQueries: \u001b[39m\u001b[38;5;132;01m{\u001b[39;00m\u001b[38;5;28mself\u001b[39m\u001b[38;5;241m.\u001b[39mQUERIES\u001b[38;5;132;01m}\u001b[39;00m\u001b[38;5;130;01m\\n\u001b[39;00m\u001b[38;5;124m\"\u001b[39m)\n\u001b[1;32m     17\u001b[0m \u001b[38;5;28;01mreturn\u001b[39;00m google, fb, ig, fb_name\n",
      "\u001b[0;31mTypeError\u001b[0m: Target.rm_dublicates() takes 1 positional argument but 2 were given"
     ]
    }
   ],
   "source": [
    "y = Dork.query_generator(x, x.NAME, x.USERNAME)"
   ]
  },
  {
   "cell_type": "code",
   "execution_count": 17,
   "metadata": {},
   "outputs": [
    {
     "name": "stdout",
     "output_type": "stream",
     "text": [
      "Name: Elias Torjani\n",
      "Username: eliastorjani\n",
      "queries: ['\"Elias Torjani\"', 'site:facebook.com intext:\"eliastorjani\"', 'site:facebook.com intext:\"Elias Torjani\"', 'site:instagram.com intext:\"eliastorjani\"', '\"Elias Torjani\"', 'site:facebook.com intext:\"eliastorjani\"', 'site:facebook.com intext:\"Elias Torjani\"', 'site:instagram.com intext:\"eliastorjani\"', '\"Elias Torjani\"', 'site:facebook.com intext:\"eliastorjani\"', 'site:facebook.com intext:\"Elias Torjani\"', 'site:instagram.com intext:\"eliastorjani\"']\n",
      "urls: []\n"
     ]
    }
   ],
   "source": [
    "sanity(y)"
   ]
  },
  {
   "cell_type": "code",
   "execution_count": null,
   "metadata": {},
   "outputs": [],
   "source": [
    "# -----------------------------\n",
    "# Main Workflow\n",
    "# -----------------------------\n",
    "if __name__ == \"__main__\":\n",
    "    # Input Details --> in ABC now\n",
    "    # name = input(\"Enter the person's name: \")\n",
    "    # username = input(\"Enter their username: \")\n",
    "\n",
    "    # Step 1: Generate Queries --> in ABC now\n",
    "    Dork.query_generator().single_query(NAME)\n",
    "    Dork.query_generator().multi_query(NAME, USERNAME)\n",
    "    print(\"\\nGenerated Queries:\")\n",
    "    print(Dork.queries)\n",
    "\n",
    "    # Step 2: Perform Google Searches\n",
    "    g = GoogleManager()\n",
    "    urls = g.search(queries)\n",
    "    print(\"\\nRetrieved URLs:\")\n",
    "    print(urls)\n",
    "\n",
    "    # # Step 3: Extract Text Content\n",
    "    extractor = TextExtractor()\n",
    "    content = extractor.extract_bulk(urls)\n",
    "    print(f\"\\nExtracted content from {len(content)} URLs.\")\n",
    "\n",
    "    # # Step 4: Save to File\n",
    "    output_file = \"extracted_content.txt\"\n",
    "    extractor.save_to_file(content, output_file)\n"
   ]
  }
 ],
 "metadata": {
  "kernelspec": {
   "display_name": "base",
   "language": "python",
   "name": "python3"
  },
  "language_info": {
   "codemirror_mode": {
    "name": "ipython",
    "version": 3
   },
   "file_extension": ".py",
   "mimetype": "text/x-python",
   "name": "python",
   "nbconvert_exporter": "python",
   "pygments_lexer": "ipython3",
   "version": "3.11.8"
  }
 },
 "nbformat": 4,
 "nbformat_minor": 2
}
